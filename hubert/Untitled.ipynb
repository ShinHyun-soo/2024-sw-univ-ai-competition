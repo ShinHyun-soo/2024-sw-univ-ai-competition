{
 "cells": [
  {
   "cell_type": "code",
   "execution_count": 1,
   "id": "9b006fd6-6fc5-4e29-896d-1f8763677175",
   "metadata": {},
   "outputs": [],
   "source": [
    "import os\n",
    "import numpy as np\n",
    "import pandas as pd\n",
    "import librosa\n",
    "import torch\n",
    "import torch.nn as nn\n",
    "import pytorch_lightning as pl\n",
    "\n",
    "from tqdm.auto import tqdm\n",
    "from torch.nn.utils.rnn import pad_sequence\n",
    "from torch.utils.data import Dataset, DataLoader\n",
    "from sklearn.model_selection import StratifiedKFold\n",
    "from pytorch_lightning import seed_everything\n",
    "from pytorch_lightning.callbacks import ModelCheckpoint\n",
    "from transformers import HubertForSequenceClassification, AutoFeatureExtractor, AutoConfig\n",
    "\n",
    "import bitsandbytes as bnb\n",
    "\n",
    "from sklearn.metrics import roc_auc_score, mean_squared_error\n",
    "from sklearn.calibration import calibration_curve"
   ]
  },
  {
   "cell_type": "code",
   "execution_count": 2,
   "id": "4512888b-0570-4a32-be24-ec45ef7b0986",
   "metadata": {},
   "outputs": [],
   "source": [
    "# Constants\n",
    "DATA_DIR = ''  # Adjust this path as necessary\n",
    "PREPROC_DIR = './preproc'\n",
    "SUBMISSION_DIR = './submission'\n",
    "MODEL_DIR = './model'\n",
    "SAMPLING_RATE = 16000\n",
    "SEED = 42\n",
    "N_FOLD = 20\n",
    "BATCH_SIZE = 2\n",
    "NUM_LABELS = 2\n",
    "AUDIO_MODEL_NAME = 'abhishtagatya/hubert-base-960h-asv19-deepfake'"
   ]
  },
  {
   "cell_type": "code",
   "execution_count": 3,
   "id": "47f2ccba-e5ba-41c3-bea7-0c6ca06644cc",
   "metadata": {},
   "outputs": [],
   "source": [
    "# Utility functions\n",
    "def accuracy(preds, labels):\n",
    "    return (preds == labels).float().mean()\n",
    "\n",
    "\n",
    "def getAudios(df):\n",
    "    audios = []\n",
    "    valid_indices = []\n",
    "    for idx, row in tqdm(df.iterrows(), total=len(df)):\n",
    "        try:\n",
    "            audio, _ = librosa.load(row['path'], sr=SAMPLING_RATE)\n",
    "            audios.append(audio)\n",
    "            valid_indices.append(idx)\n",
    "        except FileNotFoundError:\n",
    "            print(f\"File not found: {row['path']}. Skipping.\")\n",
    "        except Exception as e:\n",
    "            print(f\"Error loading {row['path']}: {e}. Skipping.\")\n",
    "    return audios, valid_indices\n",
    "\n",
    "\n",
    "# Dataset class\n",
    "class MyDataset(Dataset):\n",
    "    def __init__(self, audio, audio_feature_extractor, labels=None):\n",
    "        if labels is None:\n",
    "            labels = [[0] * NUM_LABELS for _ in range(len(audio))]\n",
    "        self.labels = np.array(labels).astype(np.float32)\n",
    "        self.audio = audio\n",
    "        self.audio_feature_extractor = audio_feature_extractor\n",
    "\n",
    "    def __len__(self):\n",
    "        return len(self.labels)\n",
    "\n",
    "    def __getitem__(self, idx):\n",
    "        label = self.labels[idx]\n",
    "        audio = self.audio[idx]\n",
    "        audio_feature = self.audio_feature_extractor(raw_speech=audio, return_tensors='np', sampling_rate=SAMPLING_RATE)\n",
    "        audio_values, audio_attn_mask = audio_feature['input_values'][0], audio_feature['attention_mask'][0]\n",
    "\n",
    "        item = {\n",
    "            'label': label,\n",
    "            'audio_values': audio_values,\n",
    "            'audio_attn_mask': audio_attn_mask,\n",
    "        }\n",
    "\n",
    "        return item\n",
    "\n",
    "\n",
    "# Collate function\n",
    "def collate_fn(samples):\n",
    "    batch_labels = []\n",
    "    batch_audio_values = []\n",
    "    batch_audio_attn_masks = []\n",
    "\n",
    "    for sample in samples:\n",
    "        batch_labels.append(sample['label'])\n",
    "        batch_audio_values.append(torch.tensor(sample['audio_values']))\n",
    "        batch_audio_attn_masks.append(torch.tensor(sample['audio_attn_mask']))\n",
    "\n",
    "    batch_labels = np.array(batch_labels)\n",
    "    batch_labels = torch.tensor(batch_labels)\n",
    "    batch_audio_values = pad_sequence(batch_audio_values, batch_first=True)\n",
    "    batch_audio_attn_masks = pad_sequence(batch_audio_attn_masks, batch_first=True)\n",
    "\n",
    "    batch = {\n",
    "        'label': batch_labels,\n",
    "        'audio_values': batch_audio_values,\n",
    "        'audio_attn_mask': batch_audio_attn_masks,\n",
    "    }\n",
    "\n",
    "    return batch\n",
    "\n",
    "\n",
    "def expected_calibration_error(y_true, y_prob, n_bins=10):\n",
    "    prob_true, prob_pred = calibration_curve(y_true, y_prob, n_bins=n_bins, strategy='uniform')\n",
    "    bin_totals = np.histogram(y_prob, bins=np.linspace(0, 1, n_bins + 1), density=False)[0]\n",
    "    non_empty_bins = bin_totals > 0\n",
    "    bin_weights = bin_totals / len(y_prob)\n",
    "    bin_weights = bin_weights[non_empty_bins]\n",
    "    prob_true = prob_true[:len(bin_weights)]\n",
    "    prob_pred = prob_pred[:len(bin_weights)]\n",
    "    ece = np.sum(bin_weights * np.abs(prob_true - prob_pred))\n",
    "    return ece\n",
    "\n",
    "\n",
    "def auc_brier_ece(labels, preds):\n",
    "    auc_scores = []\n",
    "    brier_scores = []\n",
    "    ece_scores = []\n",
    "\n",
    "    for i in range(labels.shape[1]):\n",
    "        y_true = labels[:, i]\n",
    "        y_prob = preds[:, i]\n",
    "\n",
    "        # AUC\n",
    "        try:\n",
    "            auc = roc_auc_score(y_true, y_prob)\n",
    "        except ValueError:\n",
    "            auc = 0.0\n",
    "        auc_scores.append(auc)\n",
    "\n",
    "        # Brier Score\n",
    "        brier = mean_squared_error(y_true, y_prob)\n",
    "        brier_scores.append(brier)\n",
    "\n",
    "        # ECE\n",
    "        ece = expected_calibration_error(y_true, y_prob)\n",
    "        ece_scores.append(ece)\n",
    "\n",
    "    mean_auc = np.mean(auc_scores)\n",
    "    mean_brier = np.mean(brier_scores)\n",
    "    mean_ece = np.mean(ece_scores)\n",
    "\n",
    "    combined_score = 0.5 * (1 - mean_auc) + 0.25 * mean_brier + 0.25 * mean_ece\n",
    "    return mean_auc, mean_brier, mean_ece, combined_score\n",
    "\n",
    "\n",
    "# Lightning Model class\n",
    "class MyLitModel(pl.LightningModule):\n",
    "    def __init__(self, audio_model_name, num_labels, n_layers=1, projector=True, classifier=True, dropout=0.07,\n",
    "                 lr_decay=1):\n",
    "        super(MyLitModel, self).__init__()\n",
    "        self.config = AutoConfig.from_pretrained(audio_model_name, num_labels=num_labels)\n",
    "        self.config.activation_dropout = dropout\n",
    "        self.config.attention_dropout = dropout\n",
    "        self.config.final_dropout = dropout\n",
    "        self.config.hidden_dropout = dropout\n",
    "        self.config.hidden_dropout_prob = dropout\n",
    "        self.audio_model = HubertForSequenceClassification.from_pretrained(audio_model_name, config=self.config)\n",
    "        self.lr_decay = lr_decay\n",
    "        self._do_reinit(n_layers, projector, classifier)\n",
    "\n",
    "    def forward(self, audio_values, audio_attn_mask):\n",
    "        logits = self.audio_model(input_values=audio_values, attention_mask=audio_attn_mask).logits\n",
    "        return logits\n",
    "\n",
    "    def training_step(self, batch, batch_idx):\n",
    "        audio_values = batch['audio_values']\n",
    "        audio_attn_mask = batch['audio_attn_mask']\n",
    "        labels = batch['label']\n",
    "\n",
    "        logits = self(audio_values, audio_attn_mask)\n",
    "        loss = nn.MultiLabelSoftMarginLoss()(logits, labels)\n",
    "\n",
    "        preds = torch.sigmoid(logits).detach().cpu().numpy()\n",
    "        true_labels = labels.detach().cpu().numpy()\n",
    "\n",
    "        try:\n",
    "            # Calculate combined score\n",
    "            _, _, _, train_combined_score = auc_brier_ece(true_labels, preds)\n",
    "        except ValueError:\n",
    "            train_combined_score = 0.0\n",
    "\n",
    "        # Log combined score\n",
    "        self.log('train_combined_score', train_combined_score, on_step=True, on_epoch=True, prog_bar=True, logger=True)\n",
    "        self.log('train_loss', loss, on_step=True, on_epoch=True, prog_bar=True, logger=True)\n",
    "\n",
    "        return loss\n",
    "\n",
    "    def validation_step(self, batch, batch_idx):\n",
    "        audio_values = batch['audio_values']\n",
    "        audio_attn_mask = batch['audio_attn_mask']\n",
    "        labels = batch['label']\n",
    "\n",
    "        logits = self(audio_values, audio_attn_mask)\n",
    "        loss = nn.MultiLabelSoftMarginLoss()(logits, labels)\n",
    "\n",
    "        preds = torch.sigmoid(logits).detach().cpu().numpy()\n",
    "        true_labels = labels.detach().cpu().numpy()\n",
    "\n",
    "        try:\n",
    "            # Calculate combined score\n",
    "            _, _, _, val_combined_score = auc_brier_ece(true_labels, preds)\n",
    "        except ValueError:\n",
    "            val_combined_score = 0.0\n",
    "\n",
    "        # Log combined score\n",
    "        self.log('val_combined_score', val_combined_score, on_step=False, on_epoch=True, prog_bar=True, logger=True)\n",
    "        self.log('val_loss', loss, on_step=False, on_epoch=True, prog_bar=True, logger=True)\n",
    "\n",
    "        return loss\n",
    "\n",
    "    def predict_step(self, batch, batch_idx, dataloader_idx=None):\n",
    "        audio_values = batch['audio_values']\n",
    "        audio_attn_mask = batch['audio_attn_mask']\n",
    "\n",
    "        logits = self(audio_values, audio_attn_mask)\n",
    "        probs = torch.sigmoid(logits)\n",
    "\n",
    "        return probs\n",
    "\n",
    "    def configure_optimizers(self):\n",
    "        lr = 1e-5\n",
    "        layer_decay = self.lr_decay\n",
    "        weight_decay = 0.01\n",
    "        llrd_params = self._get_llrd_params(lr=lr, layer_decay=layer_decay, weight_decay=weight_decay)\n",
    "        optimizer = bnb.optim.Adam8bit(llrd_params)\n",
    "        return optimizer\n",
    "\n",
    "    def _get_llrd_params(self, lr, layer_decay, weight_decay):\n",
    "        n_layers = self.audio_model.config.num_hidden_layers\n",
    "        llrd_params = []\n",
    "        for name, value in list(self.named_parameters()):\n",
    "            if ('bias' in name) or ('layer_norm' in name):\n",
    "                llrd_params.append({\"params\": value, \"lr\": lr, \"weight_decay\": 0.0})\n",
    "            elif ('emb' in name) or ('feature' in name):\n",
    "                llrd_params.append(\n",
    "                    {\"params\": value, \"lr\": lr * (layer_decay ** (n_layers + 1)), \"weight_decay\": weight_decay})\n",
    "            elif 'encoder.layer' in name:\n",
    "                for n_layer in range(n_layers):\n",
    "                    if f'encoder.layer.{n_layer}' in name:\n",
    "                        llrd_params.append(\n",
    "                            {\"params\": value, \"lr\": lr * (layer_decay ** (n_layer + 1)), \"weight_decay\": weight_decay})\n",
    "            else:\n",
    "                llrd_params.append({\"params\": value, \"lr\": lr, \"weight_decay\": weight_decay})\n",
    "        return llrd_params\n",
    "\n",
    "    def _do_reinit(self, n_layers=0, projector=True, classifier=True):\n",
    "        if projector:\n",
    "            self.audio_model.projector.apply(self._init_weight_and_bias)\n",
    "        if classifier:\n",
    "            self.audio_model.classifier.apply(self._init_weight_and_bias)\n",
    "\n",
    "        for n in range(n_layers):\n",
    "            self.audio_model.hubert.encoder.layers[-(n + 1)].apply(self._init_weight_and_bias)\n",
    "\n",
    "    def _init_weight_and_bias(self, module):\n",
    "        if isinstance(module, nn.Linear):\n",
    "            module.weight.data.normal_(mean=0.0, std=self.audio_model.config.initializer_range)\n",
    "            if module.bias is not None:\n",
    "                module.bias.data.zero_()\n",
    "        elif isinstance(module, nn.LayerNorm):\n",
    "            module.bias.data.zero_()\n",
    "            module.weight.data.fill_(1.0)"
   ]
  },
  {
   "cell_type": "code",
   "execution_count": 4,
   "id": "d2e144a9-09c3-44e2-9d8c-985665867ee6",
   "metadata": {},
   "outputs": [
    {
     "name": "stderr",
     "output_type": "stream",
     "text": [
      "Seed set to 42\n"
     ]
    },
    {
     "name": "stdout",
     "output_type": "stream",
     "text": [
      "Train DataFrame shape: (99999, 2)\n"
     ]
    }
   ],
   "source": [
    "seed_everything(SEED)\n",
    "\n",
    "# 사운드 특징 추출\n",
    "audio_feature_extractor = AutoFeatureExtractor.from_pretrained(AUDIO_MODEL_NAME)\n",
    "audio_feature_extractor.return_attention_mask = True\n",
    "\n",
    "# 데이터 로드\n",
    "train_df = pd.read_csv('./shuffled_audio_final.csv')\n",
    "print(f\"Train DataFrame shape: {train_df.shape}\")"
   ]
  },
  {
   "cell_type": "code",
   "execution_count": 5,
   "id": "ff3c8e70-a228-4ef0-8554-466345e95d55",
   "metadata": {},
   "outputs": [],
   "source": [
    "train_df['path'] = train_df['path'].apply(lambda x: os.path.join(DATA_DIR, x))"
   ]
  },
  {
   "cell_type": "code",
   "execution_count": 6,
   "id": "4c498952-1cd7-409f-998d-e2084195492d",
   "metadata": {},
   "outputs": [],
   "source": [
    "# 싱글 라벨을 멀티 라벨로 변환\n",
    "train_df['label'] = train_df['label'].apply(\n",
    "    lambda x: [0, 1] if x in [1, 4] else (\n",
    "        [1, 0] if x in [2, 5] else (\n",
    "            [1, 1] if x == 3 else [0, 0]\n",
    "        )\n",
    "    )\n",
    ")"
   ]
  },
  {
   "cell_type": "code",
   "execution_count": 7,
   "id": "55baaf09-ff18-43de-924e-878f8c029b8d",
   "metadata": {},
   "outputs": [
    {
     "data": {
      "application/vnd.jupyter.widget-view+json": {
       "model_id": "9fe2231d96b74c4da792976eeab7582a",
       "version_major": 2,
       "version_minor": 0
      },
      "text/plain": [
       "  0%|          | 0/99999 [00:00<?, ?it/s]"
      ]
     },
     "metadata": {},
     "output_type": "display_data"
    },
    {
     "name": "stderr",
     "output_type": "stream",
     "text": [
      "C:\\Users\\shsmc\\AppData\\Local\\Temp\\ipykernel_24440\\3704802671.py:11: UserWarning: PySoundFile failed. Trying audioread instead.\n",
      "  audio, _ = librosa.load(row['path'], sr=SAMPLING_RATE)\n",
      "C:\\Users\\shsmc\\Downloads\\wavemotion\\venv\\lib\\site-packages\\librosa\\core\\audio.py:184: FutureWarning: librosa.core.audio.__audioread_load\n",
      "\tDeprecated as of librosa version 0.10.0.\n",
      "\tIt will be removed in librosa version 1.0.\n",
      "  y, sr_native = __audioread_load(path, offset, duration, dtype)\n"
     ]
    },
    {
     "name": "stdout",
     "output_type": "stream",
     "text": [
      "File not found: ./audio_final/3_26_488.ogg. Skipping.\n",
      "File not found: ./audio_final/3_26_494.ogg. Skipping.\n",
      "File not found: ./train/ATF1P.ogg. Skipping.\n",
      "File not found: ./audio_final/3_26_476.ogg. Skipping.\n",
      "File not found: ./audio_final/3_26_477.ogg. Skipping.\n",
      "File not found: ./audio_final/3_26_474.ogg. Skipping.\n",
      "File not found: ./audio_final/3_26_497.ogg. Skipping.\n",
      "File not found: ./audio_final/3_26_471.ogg. Skipping.\n",
      "File not found: ./audio_final/3_26_496.ogg. Skipping.\n",
      "File not found: ./audio_final/3_26_490.ogg. Skipping.\n",
      "File not found: ./audio_final/3_26_485.ogg. Skipping.\n",
      "File not found: ./audio_final/3_26_489.ogg. Skipping.\n",
      "File not found: ./audio_final/3_26_473.ogg. Skipping.\n",
      "File not found: ./audio_final/3_26_484.ogg. Skipping.\n",
      "File not found: ./audio_final/3_26_492.ogg. Skipping.\n",
      "File not found: ./audio_final/3_26_486.ogg. Skipping.\n",
      "File not found: ./audio_final/3_26_487.ogg. Skipping.\n",
      "File not found: ./audio_final/3_26_481.ogg. Skipping.\n",
      "File not found: ./audio_final/3_26_493.ogg. Skipping.\n",
      "File not found: ./audio_final/3_26_472.ogg. Skipping.\n",
      "File not found: ./audio_final/3_26_475.ogg. Skipping.\n",
      "File not found: ./audio_final/3_26_470.ogg. Skipping.\n",
      "File not found: ./audio_final/3_26_480.ogg. Skipping.\n",
      "File not found: ./audio_final/3_26_495.ogg. Skipping.\n",
      "File not found: ./audio_final/3_26_483.ogg. Skipping.\n",
      "File not found: ./audio_final/3_26_491.ogg. Skipping.\n",
      "File not found: ./audio_final/3_26_479.ogg. Skipping.\n",
      "File not found: ./audio_final/3_26_482.ogg. Skipping.\n",
      "File not found: ./audio_final/3_26_478.ogg. Skipping.\n",
      "Number of valid train audios: 99970\n"
     ]
    }
   ],
   "source": [
    "train_audios, valid_indices = getAudios(train_df)\n",
    "print(f\"Number of valid train audios: {len(train_audios)}\")\n",
    "train_df = train_df.iloc[valid_indices].reset_index(drop=True)\n",
    "train_labels = np.array(train_df['label'].tolist())\n"
   ]
  },
  {
   "cell_type": "code",
   "execution_count": null,
   "id": "3621e742-aaea-4e4c-b6a3-b557d4ffee41",
   "metadata": {
    "scrolled": true
   },
   "outputs": [
    {
     "name": "stdout",
     "output_type": "stream",
     "text": [
      "Fold 6: Train indices length: 94971, Validation indices length: 4999\n"
     ]
    },
    {
     "name": "stderr",
     "output_type": "stream",
     "text": [
      "Using 16bit Automatic Mixed Precision (AMP)\n",
      "GPU available: True (cuda), used: True\n",
      "TPU available: False, using: 0 TPU cores\n",
      "HPU available: False, using: 0 HPUs\n",
      "C:\\Users\\shsmc\\Downloads\\wavemotion\\venv\\lib\\site-packages\\pytorch_lightning\\trainer\\connectors\\logger_connector\\logger_connector.py:75: Starting from v1.9.0, `tensorboardX` has been removed as a dependency of the `pytorch_lightning` package, due to potential conflicts with other packages in the ML ecosystem. For this reason, `logger=True` will use `CSVLogger` as the default logger, unless the `tensorboard` or `tensorboardX` packages are found. Please `pip install lightning[extra]` or one of them to enable TensorBoard support by default\n",
      "You are using a CUDA device ('NVIDIA GeForce RTX 4060 Ti') that has Tensor Cores. To properly utilize them, you should set `torch.set_float32_matmul_precision('medium' | 'high')` which will trade-off precision for performance. For more details, read https://pytorch.org/docs/stable/generated/torch.set_float32_matmul_precision.html#torch.set_float32_matmul_precision\n",
      "C:\\Users\\shsmc\\Downloads\\wavemotion\\venv\\lib\\site-packages\\pytorch_lightning\\callbacks\\model_checkpoint.py:652: Checkpoint directory C:\\Users\\shsmc\\Downloads\\wavemotion\\model exists and is not empty.\n",
      "LOCAL_RANK: 0 - CUDA_VISIBLE_DEVICES: [0]\n"
     ]
    },
    {
     "name": "stdout",
     "output_type": "stream",
     "text": [
      "Starting training for fold 6...\n"
     ]
    },
    {
     "name": "stderr",
     "output_type": "stream",
     "text": [
      "\n",
      "  | Name        | Type                            | Params | Mode\n",
      "-----------------------------------------------------------------------\n",
      "0 | audio_model | HubertForSequenceClassification | 94.6 M | eval\n",
      "-----------------------------------------------------------------------\n",
      "94.6 M    Trainable params\n",
      "0         Non-trainable params\n",
      "94.6 M    Total params\n",
      "378.276   Total estimated model params size (MB)\n"
     ]
    },
    {
     "data": {
      "application/vnd.jupyter.widget-view+json": {
       "model_id": "",
       "version_major": 2,
       "version_minor": 0
      },
      "text/plain": [
       "Sanity Checking: |                                                                                            …"
      ]
     },
     "metadata": {},
     "output_type": "display_data"
    },
    {
     "name": "stderr",
     "output_type": "stream",
     "text": [
      "C:\\Users\\shsmc\\Downloads\\wavemotion\\venv\\lib\\site-packages\\pytorch_lightning\\trainer\\connectors\\data_connector.py:424: The 'val_dataloader' does not have many workers which may be a bottleneck. Consider increasing the value of the `num_workers` argument` to `num_workers=11` in the `DataLoader` to improve performance.\n",
      "C:\\Users\\shsmc\\Downloads\\wavemotion\\venv\\lib\\site-packages\\transformers\\models\\hubert\\modeling_hubert.py:868: UserWarning: 1Torch was not compiled with flash attention. (Triggered internally at ..\\aten\\src\\ATen\\native\\transformers\\cuda\\sdp_utils.cpp:455.)\n",
      "  attn_output = torch.nn.functional.scaled_dot_product_attention(\n",
      "C:\\Users\\shsmc\\Downloads\\wavemotion\\venv\\lib\\site-packages\\pytorch_lightning\\trainer\\connectors\\data_connector.py:424: The 'train_dataloader' does not have many workers which may be a bottleneck. Consider increasing the value of the `num_workers` argument` to `num_workers=11` in the `DataLoader` to improve performance.\n"
     ]
    },
    {
     "data": {
      "application/vnd.jupyter.widget-view+json": {
       "model_id": "94a20e71bbfb47f6848254c984f23a89",
       "version_major": 2,
       "version_minor": 0
      },
      "text/plain": [
       "Training: |                                                                                                   …"
      ]
     },
     "metadata": {},
     "output_type": "display_data"
    },
    {
     "data": {
      "application/vnd.jupyter.widget-view+json": {
       "model_id": "",
       "version_major": 2,
       "version_minor": 0
      },
      "text/plain": [
       "Validation: |                                                                                                 …"
      ]
     },
     "metadata": {},
     "output_type": "display_data"
    },
    {
     "data": {
      "application/vnd.jupyter.widget-view+json": {
       "model_id": "",
       "version_major": 2,
       "version_minor": 0
      },
      "text/plain": [
       "Validation: |                                                                                                 …"
      ]
     },
     "metadata": {},
     "output_type": "display_data"
    },
    {
     "data": {
      "application/vnd.jupyter.widget-view+json": {
       "model_id": "",
       "version_major": 2,
       "version_minor": 0
      },
      "text/plain": [
       "Validation: |                                                                                                 …"
      ]
     },
     "metadata": {},
     "output_type": "display_data"
    },
    {
     "data": {
      "application/vnd.jupyter.widget-view+json": {
       "model_id": "",
       "version_major": 2,
       "version_minor": 0
      },
      "text/plain": [
       "Validation: |                                                                                                 …"
      ]
     },
     "metadata": {},
     "output_type": "display_data"
    },
    {
     "data": {
      "application/vnd.jupyter.widget-view+json": {
       "model_id": "",
       "version_major": 2,
       "version_minor": 0
      },
      "text/plain": [
       "Validation: |                                                                                                 …"
      ]
     },
     "metadata": {},
     "output_type": "display_data"
    },
    {
     "data": {
      "application/vnd.jupyter.widget-view+json": {
       "model_id": "",
       "version_major": 2,
       "version_minor": 0
      },
      "text/plain": [
       "Validation: |                                                                                                 …"
      ]
     },
     "metadata": {},
     "output_type": "display_data"
    },
    {
     "data": {
      "application/vnd.jupyter.widget-view+json": {
       "model_id": "",
       "version_major": 2,
       "version_minor": 0
      },
      "text/plain": [
       "Validation: |                                                                                                 …"
      ]
     },
     "metadata": {},
     "output_type": "display_data"
    },
    {
     "data": {
      "application/vnd.jupyter.widget-view+json": {
       "model_id": "",
       "version_major": 2,
       "version_minor": 0
      },
      "text/plain": [
       "Validation: |                                                                                                 …"
      ]
     },
     "metadata": {},
     "output_type": "display_data"
    },
    {
     "data": {
      "application/vnd.jupyter.widget-view+json": {
       "model_id": "",
       "version_major": 2,
       "version_minor": 0
      },
      "text/plain": [
       "Validation: |                                                                                                 …"
      ]
     },
     "metadata": {},
     "output_type": "display_data"
    },
    {
     "data": {
      "application/vnd.jupyter.widget-view+json": {
       "model_id": "",
       "version_major": 2,
       "version_minor": 0
      },
      "text/plain": [
       "Validation: |                                                                                                 …"
      ]
     },
     "metadata": {},
     "output_type": "display_data"
    },
    {
     "data": {
      "application/vnd.jupyter.widget-view+json": {
       "model_id": "",
       "version_major": 2,
       "version_minor": 0
      },
      "text/plain": [
       "Validation: |                                                                                                 …"
      ]
     },
     "metadata": {},
     "output_type": "display_data"
    },
    {
     "data": {
      "application/vnd.jupyter.widget-view+json": {
       "model_id": "",
       "version_major": 2,
       "version_minor": 0
      },
      "text/plain": [
       "Validation: |                                                                                                 …"
      ]
     },
     "metadata": {},
     "output_type": "display_data"
    },
    {
     "data": {
      "application/vnd.jupyter.widget-view+json": {
       "model_id": "",
       "version_major": 2,
       "version_minor": 0
      },
      "text/plain": [
       "Validation: |                                                                                                 …"
      ]
     },
     "metadata": {},
     "output_type": "display_data"
    },
    {
     "data": {
      "application/vnd.jupyter.widget-view+json": {
       "model_id": "",
       "version_major": 2,
       "version_minor": 0
      },
      "text/plain": [
       "Validation: |                                                                                                 …"
      ]
     },
     "metadata": {},
     "output_type": "display_data"
    },
    {
     "data": {
      "application/vnd.jupyter.widget-view+json": {
       "model_id": "",
       "version_major": 2,
       "version_minor": 0
      },
      "text/plain": [
       "Validation: |                                                                                                 …"
      ]
     },
     "metadata": {},
     "output_type": "display_data"
    },
    {
     "data": {
      "application/vnd.jupyter.widget-view+json": {
       "model_id": "",
       "version_major": 2,
       "version_minor": 0
      },
      "text/plain": [
       "Validation: |                                                                                                 …"
      ]
     },
     "metadata": {},
     "output_type": "display_data"
    },
    {
     "data": {
      "application/vnd.jupyter.widget-view+json": {
       "model_id": "",
       "version_major": 2,
       "version_minor": 0
      },
      "text/plain": [
       "Validation: |                                                                                                 …"
      ]
     },
     "metadata": {},
     "output_type": "display_data"
    },
    {
     "data": {
      "application/vnd.jupyter.widget-view+json": {
       "model_id": "",
       "version_major": 2,
       "version_minor": 0
      },
      "text/plain": [
       "Validation: |                                                                                                 …"
      ]
     },
     "metadata": {},
     "output_type": "display_data"
    },
    {
     "data": {
      "application/vnd.jupyter.widget-view+json": {
       "model_id": "",
       "version_major": 2,
       "version_minor": 0
      },
      "text/plain": [
       "Validation: |                                                                                                 …"
      ]
     },
     "metadata": {},
     "output_type": "display_data"
    },
    {
     "data": {
      "application/vnd.jupyter.widget-view+json": {
       "model_id": "",
       "version_major": 2,
       "version_minor": 0
      },
      "text/plain": [
       "Validation: |                                                                                                 …"
      ]
     },
     "metadata": {},
     "output_type": "display_data"
    },
    {
     "data": {
      "application/vnd.jupyter.widget-view+json": {
       "model_id": "",
       "version_major": 2,
       "version_minor": 0
      },
      "text/plain": [
       "Validation: |                                                                                                 …"
      ]
     },
     "metadata": {},
     "output_type": "display_data"
    },
    {
     "data": {
      "application/vnd.jupyter.widget-view+json": {
       "model_id": "",
       "version_major": 2,
       "version_minor": 0
      },
      "text/plain": [
       "Validation: |                                                                                                 …"
      ]
     },
     "metadata": {},
     "output_type": "display_data"
    },
    {
     "data": {
      "application/vnd.jupyter.widget-view+json": {
       "model_id": "",
       "version_major": 2,
       "version_minor": 0
      },
      "text/plain": [
       "Validation: |                                                                                                 …"
      ]
     },
     "metadata": {},
     "output_type": "display_data"
    },
    {
     "data": {
      "application/vnd.jupyter.widget-view+json": {
       "model_id": "",
       "version_major": 2,
       "version_minor": 0
      },
      "text/plain": [
       "Validation: |                                                                                                 …"
      ]
     },
     "metadata": {},
     "output_type": "display_data"
    },
    {
     "data": {
      "application/vnd.jupyter.widget-view+json": {
       "model_id": "",
       "version_major": 2,
       "version_minor": 0
      },
      "text/plain": [
       "Validation: |                                                                                                 …"
      ]
     },
     "metadata": {},
     "output_type": "display_data"
    },
    {
     "data": {
      "application/vnd.jupyter.widget-view+json": {
       "model_id": "",
       "version_major": 2,
       "version_minor": 0
      },
      "text/plain": [
       "Validation: |                                                                                                 …"
      ]
     },
     "metadata": {},
     "output_type": "display_data"
    },
    {
     "data": {
      "application/vnd.jupyter.widget-view+json": {
       "model_id": "82a721a133d94432829305e190e7c76b",
       "version_major": 2,
       "version_minor": 0
      },
      "text/plain": [
       "Validation: |                                                                                                 …"
      ]
     },
     "metadata": {},
     "output_type": "display_data"
    }
   ],
   "source": [
    "skf = StratifiedKFold(n_splits=N_FOLD, shuffle=True, random_state=SEED)\n",
    "for fold_idx, (train_indices, val_indices) in enumerate(\n",
    "        skf.split(train_labels, train_labels.argmax(axis=1))):\n",
    "\n",
    "    if fold_idx < 6 :\n",
    "        continue\n",
    "    \n",
    "    print(\n",
    "        f\"Fold {fold_idx}: Train indices length: {len(train_indices)}, Validation indices length: {len(val_indices)}\")\n",
    "    train_fold_audios = [train_audios[train_index] for train_index in train_indices]\n",
    "    val_fold_audios = [train_audios[val_index] for val_index in val_indices]\n",
    "\n",
    "    train_fold_labels = train_labels[train_indices]\n",
    "    val_fold_labels = train_labels[val_indices]\n",
    "    train_fold_ds = MyDataset(train_fold_audios, audio_feature_extractor, train_fold_labels)\n",
    "    val_fold_ds = MyDataset(val_fold_audios, audio_feature_extractor, val_fold_labels)\n",
    "    train_fold_dl = DataLoader(train_fold_ds, batch_size=BATCH_SIZE, collate_fn=collate_fn)\n",
    "    val_fold_dl = DataLoader(val_fold_ds, batch_size=BATCH_SIZE * 2, collate_fn=collate_fn)\n",
    "\n",
    "    checkpoint_acc_callback = ModelCheckpoint(\n",
    "        monitor='val_combined_score',\n",
    "        dirpath=MODEL_DIR,\n",
    "        filename=f'fold_{fold_idx}' + '_{epoch:02d}-{val_combined_score:.4f}',\n",
    "        save_top_k=1,\n",
    "        mode='min'\n",
    "    )\n",
    "\n",
    "    my_lit_model = MyLitModel(\n",
    "        audio_model_name=AUDIO_MODEL_NAME,\n",
    "        num_labels=NUM_LABELS,\n",
    "        n_layers=1, projector=True, classifier=True, dropout=0.07, lr_decay=0.8\n",
    "    )\n",
    "\n",
    "    trainer = pl.Trainer(\n",
    "        accelerator='cuda',\n",
    "        max_epochs=3,\n",
    "        precision='16-mixed',\n",
    "        val_check_interval=0.1,\n",
    "        callbacks=[checkpoint_acc_callback],\n",
    "        accumulate_grad_batches=2\n",
    "        # batch_size * accumulate_grad_batches = 가 실질적인 배치 사이즈임. (vram 은 batch_size 기준으로 소모함.)\n",
    "    )\n",
    "\n",
    "    print(f\"Starting training for fold {fold_idx}...\")\n",
    "    trainer.fit(my_lit_model, train_fold_dl, val_fold_dl)\n",
    "    print(f\"Training completed for fold {fold_idx}.\")\n",
    "\n",
    "    del my_lit_model"
   ]
  },
  {
   "cell_type": "code",
   "execution_count": null,
   "id": "87b4b918-62dd-4ee4-aa9c-6cc40c4d7fda",
   "metadata": {},
   "outputs": [],
   "source": []
  },
  {
   "cell_type": "code",
   "execution_count": null,
   "id": "a0cc4316-3740-4899-a658-b9a49700627b",
   "metadata": {},
   "outputs": [],
   "source": []
  }
 ],
 "metadata": {
  "kernelspec": {
   "display_name": "Python 3 (ipykernel)",
   "language": "python",
   "name": "python3"
  },
  "language_info": {
   "codemirror_mode": {
    "name": "ipython",
    "version": 3
   },
   "file_extension": ".py",
   "mimetype": "text/x-python",
   "name": "python",
   "nbconvert_exporter": "python",
   "pygments_lexer": "ipython3",
   "version": "3.10.11"
  }
 },
 "nbformat": 4,
 "nbformat_minor": 5
}
