{
 "cells": [
  {
   "cell_type": "code",
   "execution_count": 1,
   "id": "87dbec83-297c-4b43-b5ab-cf17d16cb987",
   "metadata": {},
   "outputs": [],
   "source": [
    "import os\n",
    "import numpy as np\n",
    "import pandas as pd\n",
    "import librosa\n",
    "import torch\n",
    "import torch.nn as nn\n",
    "import pytorch_lightning as pl\n",
    "\n",
    "from tqdm.auto import tqdm\n",
    "from torch.nn.utils.rnn import pad_sequence\n",
    "from torch.utils.data import Dataset, DataLoader\n",
    "from pytorch_lightning import seed_everything\n",
    "from transformers import HubertForSequenceClassification, AutoFeatureExtractor, AutoConfig\n",
    "\n",
    "import bitsandbytes as bnb\n"
   ]
  },
  {
   "cell_type": "code",
   "execution_count": 2,
   "id": "22b7c476-ac3f-49c6-bec9-7ef2eb187cde",
   "metadata": {},
   "outputs": [],
   "source": [
    "# Constants\n",
    "DATA_DIR = ''  # Adjust this path as necessary\n",
    "PREPROC_DIR = './preproc'\n",
    "SUBMISSION_DIR = './submission'\n",
    "MODEL_DIR = './model'\n",
    "SAMPLING_RATE = 16000\n",
    "SEED = 42\n",
    "N_FOLD = 20\n",
    "BATCH_SIZE = 2\n",
    "NUM_LABELS = 2\n",
    "AUDIO_MODEL_NAME = 'abhishtagatya/hubert-base-960h-asv19-deepfake'"
   ]
  },
  {
   "cell_type": "code",
   "execution_count": 3,
   "id": "241c1c5f-8d32-4dd4-aea9-98acad366ead",
   "metadata": {},
   "outputs": [],
   "source": [
    "def getAudios(df):\n",
    "    audios = []\n",
    "    valid_indices = []\n",
    "    for idx, row in tqdm(df.iterrows(), total=len(df)):\n",
    "        try:\n",
    "            audio, _ = librosa.load(row['path'], sr=SAMPLING_RATE)\n",
    "            audios.append(audio)\n",
    "            valid_indices.append(idx)\n",
    "        except FileNotFoundError:\n",
    "            print(f\"File not found: {row['path']}. Skipping.\")\n",
    "        except Exception as e:\n",
    "            print(f\"Error loading {row['path']}: {e}. Skipping.\")\n",
    "    return audios, valid_indices"
   ]
  },
  {
   "cell_type": "code",
   "execution_count": 4,
   "id": "e1afb4d2-761d-4635-83ee-0f04cacccbbf",
   "metadata": {},
   "outputs": [],
   "source": [
    "class MyDataset(Dataset):\n",
    "    def __init__(self, audio, audio_feature_extractor, labels=None):\n",
    "        if labels is None:\n",
    "            labels = [[0] * NUM_LABELS for _ in range(len(audio))]\n",
    "        self.labels = np.array(labels).astype(np.float32)\n",
    "        self.audio = audio\n",
    "        self.audio_feature_extractor = audio_feature_extractor\n",
    "\n",
    "    def __len__(self):\n",
    "        return len(self.labels)\n",
    "\n",
    "    def __getitem__(self, idx):\n",
    "        label = self.labels[idx]\n",
    "        audio = self.audio[idx]\n",
    "        audio_feature = self.audio_feature_extractor(raw_speech=audio, return_tensors='np', sampling_rate=SAMPLING_RATE)\n",
    "        audio_values, audio_attn_mask = audio_feature['input_values'][0], audio_feature['attention_mask'][0]\n",
    "\n",
    "        item = {\n",
    "            'label': label,\n",
    "            'audio_values': audio_values,\n",
    "            'audio_attn_mask': audio_attn_mask,\n",
    "        }\n",
    "\n",
    "        return item"
   ]
  },
  {
   "cell_type": "code",
   "execution_count": 5,
   "id": "90fa1324-42d0-4955-9e2c-096988064fdb",
   "metadata": {},
   "outputs": [],
   "source": [
    "def collate_fn(samples):\n",
    "    batch_labels = []\n",
    "    batch_audio_values = []\n",
    "    batch_audio_attn_masks = []\n",
    "\n",
    "    for sample in samples:\n",
    "        batch_labels.append(sample['label'])\n",
    "        batch_audio_values.append(torch.tensor(sample['audio_values']))\n",
    "        batch_audio_attn_masks.append(torch.tensor(sample['audio_attn_mask']))\n",
    "\n",
    "    batch_labels = np.array(batch_labels)\n",
    "    batch_labels = torch.tensor(batch_labels)\n",
    "    batch_audio_values = pad_sequence(batch_audio_values, batch_first=True)\n",
    "    batch_audio_attn_masks = pad_sequence(batch_audio_attn_masks, batch_first=True)\n",
    "\n",
    "    batch = {\n",
    "        'label': batch_labels,\n",
    "        'audio_values': batch_audio_values,\n",
    "        'audio_attn_mask': batch_audio_attn_masks,\n",
    "    }\n",
    "\n",
    "    return batch"
   ]
  },
  {
   "cell_type": "code",
   "execution_count": 6,
   "id": "d2b828d8-a17a-40df-a3ac-a894ac6eb798",
   "metadata": {},
   "outputs": [],
   "source": [
    "class MyLitModel(pl.LightningModule):\n",
    "    def __init__(self, audio_model_name, num_labels, n_layers=1, projector=True, classifier=True, dropout=0.07,\n",
    "                 lr_decay=1):\n",
    "        super(MyLitModel, self).__init__()\n",
    "        self.config = AutoConfig.from_pretrained(audio_model_name, num_labels=num_labels)\n",
    "        self.config.activation_dropout = dropout\n",
    "        self.config.attention_dropout = dropout\n",
    "        self.config.final_dropout = dropout\n",
    "        self.config.hidden_dropout = dropout\n",
    "        self.config.hidden_dropout_prob = dropout\n",
    "        self.audio_model = HubertForSequenceClassification.from_pretrained(audio_model_name, config=self.config)\n",
    "        self.lr_decay = lr_decay\n",
    "        self._do_reinit(n_layers, projector, classifier)\n",
    "\n",
    "    def forward(self, audio_values, audio_attn_mask):\n",
    "        logits = self.audio_model(input_values=audio_values, attention_mask=audio_attn_mask).logits\n",
    "        return logits\n",
    "\n",
    "    def training_step(self, batch, batch_idx):\n",
    "        audio_values = batch['audio_values']\n",
    "        audio_attn_mask = batch['audio_attn_mask']\n",
    "        labels = batch['label']\n",
    "\n",
    "        logits = self(audio_values, audio_attn_mask)\n",
    "        loss = nn.BCEWithLogitsLoss()(logits, labels)\n",
    "\n",
    "        self.log('train_loss', loss, on_step=True, on_epoch=True, prog_bar=True, logger=True)\n",
    "\n",
    "        return loss\n",
    "\n",
    "    def validation_step(self, batch, batch_idx):\n",
    "        audio_values = batch['audio_values']\n",
    "        audio_attn_mask = batch['audio_attn_mask']\n",
    "        labels = batch['label']\n",
    "\n",
    "        logits = self(audio_values, audio_attn_mask)\n",
    "        loss = nn.BCEWithLogitsLoss()(logits, labels)\n",
    "\n",
    "        self.log('val_loss', loss, on_step=False, on_epoch=True, prog_bar=True, logger=True)\n",
    "        return loss\n",
    "\n",
    "    def predict_step(self, batch, batch_idx, dataloader_idx=None):\n",
    "        audio_values = batch['audio_values']\n",
    "        audio_attn_mask = batch['audio_attn_mask']\n",
    "\n",
    "        logits = self(audio_values, audio_attn_mask)\n",
    "        probs = torch.sigmoid(logits)\n",
    "\n",
    "        return probs\n",
    "\n",
    "    def configure_optimizers(self):\n",
    "        lr = 1e-5\n",
    "        layer_decay = self.lr_decay\n",
    "        weight_decay = 0.01\n",
    "        llrd_params = self._get_llrd_params(lr=lr, layer_decay=layer_decay, weight_decay=weight_decay)\n",
    "        optimizer = bnb.optim.AdamW8bit(llrd_params)  # optimizer 을 8bit 로 하여 계산 속도 향상 및 vram 사용량 감축\n",
    "        return optimizer\n",
    "\n",
    "    def _get_llrd_params(self, lr, layer_decay, weight_decay):\n",
    "        n_layers = self.audio_model.config.num_hidden_layers\n",
    "        llrd_params = []\n",
    "        for name, value in list(self.named_parameters()):\n",
    "            if ('bias' in name) or ('layer_norm' in name):\n",
    "                llrd_params.append({\"params\": value, \"lr\": lr, \"weight_decay\": 0.0})\n",
    "            elif ('emb' in name) or ('feature' in name):\n",
    "                llrd_params.append(\n",
    "                    {\"params\": value, \"lr\": lr * (layer_decay ** (n_layers + 1)), \"weight_decay\": weight_decay})\n",
    "            elif 'encoder.layer' in name:\n",
    "                for n_layer in range(n_layers):\n",
    "                    if f'encoder.layer.{n_layer}' in name:\n",
    "                        llrd_params.append(\n",
    "                            {\"params\": value, \"lr\": lr * (layer_decay ** (n_layer + 1)), \"weight_decay\": weight_decay})\n",
    "            else:\n",
    "                llrd_params.append({\"params\": value, \"lr\": lr, \"weight_decay\": weight_decay})\n",
    "        return llrd_params\n",
    "\n",
    "    def _do_reinit(self, n_layers=0, projector=True, classifier=True):\n",
    "        if projector:\n",
    "            self.audio_model.projector.apply(self._init_weight_and_bias)\n",
    "        if classifier:\n",
    "            self.audio_model.classifier.apply(self._init_weight_and_bias)\n",
    "\n",
    "        for n in range(n_layers):\n",
    "            self.audio_model.hubert.encoder.layers[-(n + 1)].apply(self._init_weight_and_bias)\n",
    "\n",
    "    def _init_weight_and_bias(self, module):\n",
    "        if isinstance(module, nn.Linear):\n",
    "            module.weight.data.normal_(mean=0.0, std=self.audio_model.config.initializer_range)\n",
    "            if module.bias is not None:\n",
    "                module.bias.data.zero_()\n",
    "        elif isinstance(module, nn.LayerNorm):\n",
    "            module.bias.data.zero_()\n",
    "            module.weight.data.fill_(1.0)"
   ]
  },
  {
   "cell_type": "code",
   "execution_count": 7,
   "id": "909790fc-3a3a-4b2d-9147-9f139995a272",
   "metadata": {},
   "outputs": [
    {
     "name": "stderr",
     "output_type": "stream",
     "text": [
      "Seed set to 42\n"
     ]
    },
    {
     "data": {
      "application/vnd.jupyter.widget-view+json": {
       "model_id": "e5cd4991c46740db944382ff69415c17",
       "version_major": 2,
       "version_minor": 0
      },
      "text/plain": [
       "  0%|          | 0/50000 [00:00<?, ?it/s]"
      ]
     },
     "metadata": {},
     "output_type": "display_data"
    }
   ],
   "source": [
    "seed_everything(SEED)\n",
    "\n",
    "# 사운드 특징 추출\n",
    "audio_feature_extractor = AutoFeatureExtractor.from_pretrained(AUDIO_MODEL_NAME)\n",
    "audio_feature_extractor.return_attention_mask = True\n",
    "\n",
    "\n",
    "test_df = pd.read_csv('./test.csv')\n",
    "test_df['path'] = test_df['path'].apply(lambda x: os.path.join(DATA_DIR, x))\n",
    "\n",
    "\n",
    "test_df['label'] = [[0, 0]] * len(test_df)\n",
    "\n",
    "\n",
    "# 테스트 셋 예측\n",
    "test_audios, _ = getAudios(test_df)"
   ]
  },
  {
   "cell_type": "code",
   "execution_count": 8,
   "id": "e768ca98-4311-4d85-bdc9-f5c332788326",
   "metadata": {},
   "outputs": [],
   "source": [
    "test_ds = MyDataset(test_audios, audio_feature_extractor)\n",
    "test_dl = DataLoader(test_ds, batch_size=BATCH_SIZE, collate_fn=collate_fn)"
   ]
  },
  {
   "cell_type": "code",
   "execution_count": 9,
   "id": "995d907d-152c-4def-91bf-229e6c159467",
   "metadata": {
    "scrolled": true
   },
   "outputs": [
    {
     "name": "stderr",
     "output_type": "stream",
     "text": [
      "C:\\Users\\shsmc\\Downloads\\wavemotion\\venv\\lib\\site-packages\\lightning_fabric\\connector.py:571: `precision=16` is supported for historical reasons but its usage is discouraged. Please set your precision to 16-mixed instead!\n",
      "Using 16bit Automatic Mixed Precision (AMP)\n",
      "GPU available: True (cuda), used: True\n",
      "TPU available: False, using: 0 TPU cores\n",
      "HPU available: False, using: 0 HPUs\n",
      "C:\\Users\\shsmc\\Downloads\\wavemotion\\venv\\lib\\site-packages\\pytorch_lightning\\trainer\\connectors\\logger_connector\\logger_connector.py:75: Starting from v1.9.0, `tensorboardX` has been removed as a dependency of the `pytorch_lightning` package, due to potential conflicts with other packages in the ML ecosystem. For this reason, `logger=True` will use `CSVLogger` as the default logger, unless the `tensorboard` or `tensorboardX` packages are found. Please `pip install lightning[extra]` or one of them to enable TensorBoard support by default\n",
      "You are using a CUDA device ('NVIDIA GeForce RTX 4060 Ti') that has Tensor Cores. To properly utilize them, you should set `torch.set_float32_matmul_precision('medium' | 'high')` which will trade-off precision for performance. For more details, read https://pytorch.org/docs/stable/generated/torch.set_float32_matmul_precision.html#torch.set_float32_matmul_precision\n",
      "LOCAL_RANK: 0 - CUDA_VISIBLE_DEVICES: [0]\n",
      "C:\\Users\\shsmc\\Downloads\\wavemotion\\venv\\lib\\site-packages\\pytorch_lightning\\trainer\\connectors\\data_connector.py:424: The 'predict_dataloader' does not have many workers which may be a bottleneck. Consider increasing the value of the `num_workers` argument` to `num_workers=11` in the `DataLoader` to improve performance.\n"
     ]
    },
    {
     "data": {
      "application/vnd.jupyter.widget-view+json": {
       "model_id": "b78f9c4a9cb246c6b4e27a670d3d2e55",
       "version_major": 2,
       "version_minor": 0
      },
      "text/plain": [
       "Predicting: |                                                                                                 …"
      ]
     },
     "metadata": {},
     "output_type": "display_data"
    },
    {
     "name": "stderr",
     "output_type": "stream",
     "text": [
      "C:\\Users\\shsmc\\Downloads\\wavemotion\\venv\\lib\\site-packages\\transformers\\models\\hubert\\modeling_hubert.py:868: UserWarning: 1Torch was not compiled with flash attention. (Triggered internally at ..\\aten\\src\\ATen\\native\\transformers\\cuda\\sdp_utils.cpp:455.)\n",
      "  attn_output = torch.nn.functional.scaled_dot_product_attention(\n",
      "LOCAL_RANK: 0 - CUDA_VISIBLE_DEVICES: [0]\n"
     ]
    },
    {
     "data": {
      "application/vnd.jupyter.widget-view+json": {
       "model_id": "ef1d85f2e9914a629065c053171c545d",
       "version_major": 2,
       "version_minor": 0
      },
      "text/plain": [
       "Predicting: |                                                                                                 …"
      ]
     },
     "metadata": {},
     "output_type": "display_data"
    },
    {
     "name": "stderr",
     "output_type": "stream",
     "text": [
      "LOCAL_RANK: 0 - CUDA_VISIBLE_DEVICES: [0]\n"
     ]
    },
    {
     "data": {
      "application/vnd.jupyter.widget-view+json": {
       "model_id": "e910435bf7634225968b93a15ca43f96",
       "version_major": 2,
       "version_minor": 0
      },
      "text/plain": [
       "Predicting: |                                                                                                 …"
      ]
     },
     "metadata": {},
     "output_type": "display_data"
    },
    {
     "name": "stderr",
     "output_type": "stream",
     "text": [
      "LOCAL_RANK: 0 - CUDA_VISIBLE_DEVICES: [0]\n"
     ]
    },
    {
     "data": {
      "application/vnd.jupyter.widget-view+json": {
       "model_id": "217218dd4bf242249792e1c3e6590432",
       "version_major": 2,
       "version_minor": 0
      },
      "text/plain": [
       "Predicting: |                                                                                                 …"
      ]
     },
     "metadata": {},
     "output_type": "display_data"
    },
    {
     "name": "stderr",
     "output_type": "stream",
     "text": [
      "LOCAL_RANK: 0 - CUDA_VISIBLE_DEVICES: [0]\n"
     ]
    },
    {
     "data": {
      "application/vnd.jupyter.widget-view+json": {
       "model_id": "7c8cd03b440b44eeba389a59905f12e9",
       "version_major": 2,
       "version_minor": 0
      },
      "text/plain": [
       "Predicting: |                                                                                                 …"
      ]
     },
     "metadata": {},
     "output_type": "display_data"
    },
    {
     "name": "stderr",
     "output_type": "stream",
     "text": [
      "LOCAL_RANK: 0 - CUDA_VISIBLE_DEVICES: [0]\n"
     ]
    },
    {
     "data": {
      "application/vnd.jupyter.widget-view+json": {
       "model_id": "48024a65ba604512a043f724d502f466",
       "version_major": 2,
       "version_minor": 0
      },
      "text/plain": [
       "Predicting: |                                                                                                 …"
      ]
     },
     "metadata": {},
     "output_type": "display_data"
    },
    {
     "name": "stderr",
     "output_type": "stream",
     "text": [
      "LOCAL_RANK: 0 - CUDA_VISIBLE_DEVICES: [0]\n"
     ]
    },
    {
     "data": {
      "application/vnd.jupyter.widget-view+json": {
       "model_id": "ccc29c27fa7a44a3828b76588dc93772",
       "version_major": 2,
       "version_minor": 0
      },
      "text/plain": [
       "Predicting: |                                                                                                 …"
      ]
     },
     "metadata": {},
     "output_type": "display_data"
    },
    {
     "name": "stderr",
     "output_type": "stream",
     "text": [
      "LOCAL_RANK: 0 - CUDA_VISIBLE_DEVICES: [0]\n"
     ]
    },
    {
     "data": {
      "application/vnd.jupyter.widget-view+json": {
       "model_id": "ede0ac73658848feb5e9fb39501f3318",
       "version_major": 2,
       "version_minor": 0
      },
      "text/plain": [
       "Predicting: |                                                                                                 …"
      ]
     },
     "metadata": {},
     "output_type": "display_data"
    },
    {
     "name": "stderr",
     "output_type": "stream",
     "text": [
      "LOCAL_RANK: 0 - CUDA_VISIBLE_DEVICES: [0]\n"
     ]
    },
    {
     "data": {
      "application/vnd.jupyter.widget-view+json": {
       "model_id": "9da9381f8c484e2bbefede10d42e7228",
       "version_major": 2,
       "version_minor": 0
      },
      "text/plain": [
       "Predicting: |                                                                                                 …"
      ]
     },
     "metadata": {},
     "output_type": "display_data"
    },
    {
     "name": "stderr",
     "output_type": "stream",
     "text": [
      "LOCAL_RANK: 0 - CUDA_VISIBLE_DEVICES: [0]\n"
     ]
    },
    {
     "data": {
      "application/vnd.jupyter.widget-view+json": {
       "model_id": "4e13d12cd6194c6398406aef2a47cd07",
       "version_major": 2,
       "version_minor": 0
      },
      "text/plain": [
       "Predicting: |                                                                                                 …"
      ]
     },
     "metadata": {},
     "output_type": "display_data"
    },
    {
     "name": "stderr",
     "output_type": "stream",
     "text": [
      "LOCAL_RANK: 0 - CUDA_VISIBLE_DEVICES: [0]\n"
     ]
    },
    {
     "data": {
      "application/vnd.jupyter.widget-view+json": {
       "model_id": "65fec3935f4d46dfaa8c7f6380f4418b",
       "version_major": 2,
       "version_minor": 0
      },
      "text/plain": [
       "Predicting: |                                                                                                 …"
      ]
     },
     "metadata": {},
     "output_type": "display_data"
    },
    {
     "name": "stderr",
     "output_type": "stream",
     "text": [
      "LOCAL_RANK: 0 - CUDA_VISIBLE_DEVICES: [0]\n"
     ]
    },
    {
     "data": {
      "application/vnd.jupyter.widget-view+json": {
       "model_id": "fd89fdb7000942f9892c08a08509ada5",
       "version_major": 2,
       "version_minor": 0
      },
      "text/plain": [
       "Predicting: |                                                                                                 …"
      ]
     },
     "metadata": {},
     "output_type": "display_data"
    },
    {
     "name": "stderr",
     "output_type": "stream",
     "text": [
      "LOCAL_RANK: 0 - CUDA_VISIBLE_DEVICES: [0]\n"
     ]
    },
    {
     "data": {
      "application/vnd.jupyter.widget-view+json": {
       "model_id": "497c328f5e074725be925294c739f2b8",
       "version_major": 2,
       "version_minor": 0
      },
      "text/plain": [
       "Predicting: |                                                                                                 …"
      ]
     },
     "metadata": {},
     "output_type": "display_data"
    },
    {
     "name": "stderr",
     "output_type": "stream",
     "text": [
      "LOCAL_RANK: 0 - CUDA_VISIBLE_DEVICES: [0]\n"
     ]
    },
    {
     "data": {
      "application/vnd.jupyter.widget-view+json": {
       "model_id": "2782d184d2674d01b5a57d676945a6cd",
       "version_major": 2,
       "version_minor": 0
      },
      "text/plain": [
       "Predicting: |                                                                                                 …"
      ]
     },
     "metadata": {},
     "output_type": "display_data"
    },
    {
     "name": "stderr",
     "output_type": "stream",
     "text": [
      "LOCAL_RANK: 0 - CUDA_VISIBLE_DEVICES: [0]\n"
     ]
    },
    {
     "data": {
      "application/vnd.jupyter.widget-view+json": {
       "model_id": "f9a366086b8d4ed780df0cde181f9f2d",
       "version_major": 2,
       "version_minor": 0
      },
      "text/plain": [
       "Predicting: |                                                                                                 …"
      ]
     },
     "metadata": {},
     "output_type": "display_data"
    },
    {
     "name": "stderr",
     "output_type": "stream",
     "text": [
      "LOCAL_RANK: 0 - CUDA_VISIBLE_DEVICES: [0]\n"
     ]
    },
    {
     "data": {
      "application/vnd.jupyter.widget-view+json": {
       "model_id": "73d5a71b7b01451c85bf542c8aa1755e",
       "version_major": 2,
       "version_minor": 0
      },
      "text/plain": [
       "Predicting: |                                                                                                 …"
      ]
     },
     "metadata": {},
     "output_type": "display_data"
    },
    {
     "name": "stderr",
     "output_type": "stream",
     "text": [
      "LOCAL_RANK: 0 - CUDA_VISIBLE_DEVICES: [0]\n"
     ]
    },
    {
     "data": {
      "application/vnd.jupyter.widget-view+json": {
       "model_id": "f0e6d84af5f641a6addd0cf481476878",
       "version_major": 2,
       "version_minor": 0
      },
      "text/plain": [
       "Predicting: |                                                                                                 …"
      ]
     },
     "metadata": {},
     "output_type": "display_data"
    },
    {
     "name": "stderr",
     "output_type": "stream",
     "text": [
      "LOCAL_RANK: 0 - CUDA_VISIBLE_DEVICES: [0]\n"
     ]
    },
    {
     "data": {
      "application/vnd.jupyter.widget-view+json": {
       "model_id": "0645c8892e8a4b9ea63c313a92c2ec89",
       "version_major": 2,
       "version_minor": 0
      },
      "text/plain": [
       "Predicting: |                                                                                                 …"
      ]
     },
     "metadata": {},
     "output_type": "display_data"
    },
    {
     "name": "stderr",
     "output_type": "stream",
     "text": [
      "LOCAL_RANK: 0 - CUDA_VISIBLE_DEVICES: [0]\n"
     ]
    },
    {
     "data": {
      "application/vnd.jupyter.widget-view+json": {
       "model_id": "d9e382e6166b44e0b316c3c9c31e1284",
       "version_major": 2,
       "version_minor": 0
      },
      "text/plain": [
       "Predicting: |                                                                                                 …"
      ]
     },
     "metadata": {},
     "output_type": "display_data"
    },
    {
     "name": "stderr",
     "output_type": "stream",
     "text": [
      "LOCAL_RANK: 0 - CUDA_VISIBLE_DEVICES: [0]\n"
     ]
    },
    {
     "data": {
      "application/vnd.jupyter.widget-view+json": {
       "model_id": "5d7f5d4187254e10bd35ad8bf7072523",
       "version_major": 2,
       "version_minor": 0
      },
      "text/plain": [
       "Predicting: |                                                                                                 …"
      ]
     },
     "metadata": {},
     "output_type": "display_data"
    }
   ],
   "source": [
    "pretrained_models = list(map(lambda x: os.path.join(MODEL_DIR, x), os.listdir(MODEL_DIR)))\n",
    "\n",
    "test_preds = []\n",
    "trainer = pl.Trainer(\n",
    "    accelerator='cuda',\n",
    "    precision='16',\n",
    ")\n",
    "\n",
    "for pretrained_model_path in pretrained_models:\n",
    "    pretrained_model = MyLitModel.load_from_checkpoint(\n",
    "        pretrained_model_path,\n",
    "        audio_model_name=AUDIO_MODEL_NAME,\n",
    "        num_labels=NUM_LABELS,\n",
    "    )\n",
    "    test_pred = trainer.predict(pretrained_model, test_dl)\n",
    "    test_pred = torch.cat(test_pred).detach().cpu().numpy()\n",
    "    test_preds.append(test_pred)\n",
    "    del pretrained_model\n",
    "\n",
    "# preds 를 vstack 으로 행 변환 reshape 느낌\n",
    "test_preds = np.array(test_preds)\n",
    "mean_preds = np.mean(test_preds, axis=0)\n",
    "# 0열 값을 fake, 1열 값을 real\n",
    "submission_df = pd.read_csv(os.path.join('sample_submission.csv'))\n",
    "submission_df['fake'] = mean_preds[:, 0]\n",
    "submission_df['real'] = mean_preds[:, 1]\n",
    "submission_df.to_csv(os.path.join(SUBMISSION_DIR, 'zesus_plz_3.csv'), index=False)"
   ]
  },
  {
   "cell_type": "code",
   "execution_count": null,
   "id": "90226e00-7b2f-4618-89c1-0cd5559dbe94",
   "metadata": {},
   "outputs": [],
   "source": []
  }
 ],
 "metadata": {
  "kernelspec": {
   "display_name": "Python 3 (ipykernel)",
   "language": "python",
   "name": "python3"
  },
  "language_info": {
   "codemirror_mode": {
    "name": "ipython",
    "version": 3
   },
   "file_extension": ".py",
   "mimetype": "text/x-python",
   "name": "python",
   "nbconvert_exporter": "python",
   "pygments_lexer": "ipython3",
   "version": "3.10.11"
  }
 },
 "nbformat": 4,
 "nbformat_minor": 5
}
